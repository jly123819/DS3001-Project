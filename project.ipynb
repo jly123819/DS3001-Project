{
 "cells": [
  {
   "cell_type": "markdown",
   "id": "b1bace51-d646-4ab1-abdf-4e2e65a091c8",
   "metadata": {},
   "source": [
    "# Project Data Description (Insurance)\n",
    "## Foundations of Machine Learning\n",
    "\n",
    "Purpose: We aim to build predictive models that estimate a person’s annual medical insurance charges (charges) and to interpret which factors are most strongly associated with higher costs.\n",
    "\n",
    "Data source: Kaggle – Medical Cost Personal Dataset. This is a cross-sectional dataset of U.S. insurance policy holders with basic demographics and health-related behaviors. The raw file contains 1,338 rows and 7 columns. After standardization and de-duplication, the analysis table contains 1,337 rows and 10 columns (including three derived features listed below).\n",
    "\n",
    "The data include:\n",
    "  \n",
    "-age: Age in years (numeric).\n",
    "\n",
    "-sex: Biological sex of the policy holder (categorical: male, female).\n",
    "\n",
    "-bmi: Body Mass Index (kg/m², numeric).\n",
    "\n",
    "-children: Number of dependent children (non-negative integer).\n",
    "\n",
    "-smoker: Smoking status at time of record (categorical: yes, no).\n",
    "\n",
    "-region: U.S. region of residence (categorical: northeast, northwest, southeast, southwest).\n",
    "\n",
    "-charges: Annual medical insurance charges in dollars (numeric) — target variable.\n",
    "\n",
    "\n",
    "Cleaning and preparation:\n",
    "\n",
    "Standardized column names to lower_snake_case; trimmed whitespace; harmonized categories (e.g., M/F→male/female, Y/N→yes/no, NE/NW/SE/SW→full region names).\n",
    "\n",
    "Removed exact duplicate rows (n = 1).\n",
    "\n",
    "Type-coerced numeric fields; enforced reasonable bounds (age 0–100, BMI 10–80, children ≥0, charges >0). No rows failed the bounds checks.\n",
    "\n",
    "Assessed missingness; the dataset contains no missing values after cleaning.\n",
    "\n",
    "\n",
    "Engineered helper features for analysis/interpretation:\n",
    "\n",
    "bmi_obese = 1 if BMI ≥ 30, else 0.\n",
    "\n",
    "is_senior = 1 if age ≥ 65, else 0.\n",
    "\n",
    "smoker_yes = 1 if smoker == “yes”, else 0.\n",
    "\n",
    "Files and usage. We will work from a single tidy file (insurance_cleaned.csv). For modeling we will create an 80/20 train–test split (stratified on smoker) and fit all preprocessing steps on the training data only to avoid leakage.\n",
    "\n",
    "Limitations and notes. This is observational, cross-sectional data and does not support causal claims. Important cost drivers (e.g., plan details, comorbidities, income) are not observed and may confound associations with charges. Categorical labels are coarse (e.g., four regions), so geographic effects are only approximate. We will report model performance with appropriate caveats and perform sensitivity checks for influential observations."
   ]
  }
 ],
 "metadata": {
  "kernelspec": {
   "display_name": "Python 3 (ipykernel)",
   "language": "python",
   "name": "python3"
  },
  "language_info": {
   "codemirror_mode": {
    "name": "ipython",
    "version": 3
   },
   "file_extension": ".py",
   "mimetype": "text/x-python",
   "name": "python",
   "nbconvert_exporter": "python",
   "pygments_lexer": "ipython3",
   "version": "3.10.18"
  }
 },
 "nbformat": 4,
 "nbformat_minor": 5
}
