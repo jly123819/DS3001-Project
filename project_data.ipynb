{
 "cells": [
  {
   "cell_type": "markdown",
   "id": "b1bace51-d646-4ab1-abdf-4e2e65a091c8",
   "metadata": {},
   "source": [
    "# Project\n",
    "## Foundations of Machine Learning\n",
    "\n",
    "The purpose of this project is to build predictive algorithms that estimate whether a food facility inspection in Chicago will fail at the time of inspection. The data come from the City of Chicago’s official Food Inspections dataset (open data portal). Records include facility characteristics, inspection metadata, location, and free-text violation notes.\n",
    "\n",
    "The data include:\n",
    "  \n",
    "- `inspection_id` : Unique identifier of the inspection event\n",
    "- `inspection_date` : Calendar date of the inspection (parsed to date)\n",
    "- `facility_type`: Establishment type (e.g., restaurant, grocery store, school)\n",
    "- `risk`: City-defined risk level of the facility (Risk 1—High, Risk 2—Medium, Risk 3—Low)\n",
    "- `inspection_type`: Reason or program for the inspection (e.g., canvass, complaint, license, re-inspection)\n",
    "- `zip`: Five-digit ZIP code of the facility location\n",
    "- `city`: City name (mostly chicago; retained to flag anomalies)\n",
    "- `latitude`: Latitude of the facility\n",
    "- `longitude`: Longitude of the facility\n",
    "- `results`: Official outcome string (e.g., pass, pass w/ conditions, fail, out of business)\n",
    "- `violations`: Free-text list of cited violations, often numbered (“1. … 2. …”)\n",
    "\n",
    "Engineered variables used in modeling/EDA:\n",
    "\n",
    "- `viol_count` : Count of numbered violations extracted from violations text\n",
    "- `risk_ord` : Ordinal encoding of risk (High=3, Medium=2, Low=1)\n",
    "- `ins_year / ins_month / ins_wday` : Year, month, and weekday derived from inspection_date\n",
    "- `target_fail` : Binary target where 1 denotes an inspection with results == \"fail\"\n",
    "\n",
    "We provide two datasets: training_data.csv for building and tuning models, and testing_data.csv held out for final evaluation. All preprocessing and model selection are fit on the training set (with cross-validation inside it). The test set stays untouched until the end to estimate generalization; if test performance drops relative to training, that signals overfitting.\n",
    "\n"
   ]
  }
 ],
 "metadata": {
  "kernelspec": {
   "display_name": "Python 3 (ipykernel)",
   "language": "python",
   "name": "python3"
  },
  "language_info": {
   "codemirror_mode": {
    "name": "ipython",
    "version": 3
   },
   "file_extension": ".py",
   "mimetype": "text/x-python",
   "name": "python",
   "nbconvert_exporter": "python",
   "pygments_lexer": "ipython3",
   "version": "3.10.18"
  }
 },
 "nbformat": 4,
 "nbformat_minor": 5
}
